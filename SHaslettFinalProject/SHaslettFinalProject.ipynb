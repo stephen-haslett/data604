{
 "cells": [
  {
   "cell_type": "markdown",
   "metadata": {
    "collapsed": true
   },
   "source": [
    "## Data 604 Final Project\n",
    "\n",
    "Using SimPy, write a process simulation that includes waiting time (discrete event simulation). You may use any topic of interest to you. Write the simulation and all of the following in Jupyter.\n",
    "\n",
    "**1. State the problem and its significance.**\n",
    "\n",
    "This project simulates a restaurant that offers 2 services to customers:\n",
    "\n",
    "* **Self Service Buffet**    \n",
    "    _The customer is provided with a plate and serves themselves to the buffet_.\n",
    "    \n",
    "    \n",
    "* **Table Service**  \n",
    "   _The customer is seated and their food is served to them by a waiter_.\n",
    "   \n",
    "There is one line for both services. The customer arrival rate is randomly generated using an exponential distribution with an arrival rate of ......\n",
    "\n",
    "\n",
    "**2.  Provide a flow-chart model.**\n"
   ]
  },
  {
   "cell_type": "markdown",
   "metadata": {},
   "source": [
    "**3.  Simulate the process for the appropriate number of iterations (justify).**\n"
   ]
  },
  {
   "cell_type": "code",
   "execution_count": 57,
   "metadata": {},
   "outputs": [],
   "source": [
    "# Import the libraries required to perform the simulation.\n",
    "import simpy\n",
    "import numpy as np\n",
    "import pandas as pd\n",
    "import random"
   ]
  },
  {
   "cell_type": "code",
   "execution_count": 58,
   "metadata": {},
   "outputs": [],
   "source": [
    "# Set seed and simulation time variables.\n",
    "seed = 500\n",
    "\n",
    "# Simulation time is representative of the restaurant's hours of business.\n",
    "simulation_time = 12\n",
    "\n",
    "# Instantiate a dataframe to contain the simulation results.\n",
    "simulation_results = pd.DataFrame(columns = ['Customer', 'Service', 'Arrival Time',\n",
    "                                             'Service Start Time', 'Service Stop Time'])\n"
   ]
  },
  {
   "cell_type": "code",
   "execution_count": 59,
   "metadata": {},
   "outputs": [],
   "source": [
    "def generate_arrivals():\n",
    "    \"\"\"Generates customer arrivals at the restaurant.\n",
    "    \n",
    "    10 to 30 customers arrive at the restaurant every hour.\n",
    "    \"\"\"\n",
    "    return np.random.exponential(60.0 / np.random.randint(10, 30))"
   ]
  },
  {
   "cell_type": "code",
   "execution_count": 60,
   "metadata": {},
   "outputs": [],
   "source": [
    "def generate_buffet_service_time():\n",
    "    \"\"\"Generates service times for the buffet service.\"\"\"\n",
    "    return np.random.triangular(3, 4, 5)"
   ]
  },
  {
   "cell_type": "code",
   "execution_count": 61,
   "metadata": {},
   "outputs": [],
   "source": [
    "def generate_table_service_time():\n",
    "    \"\"\"Generates service times for the table service.\"\"\"\n",
    "    return np.random.triangular(10, 15, 20)"
   ]
  },
  {
   "cell_type": "code",
   "execution_count": 62,
   "metadata": {},
   "outputs": [],
   "source": [
    "def run_simulation(env, buffet, table_service):\n",
    "    global current_hour\n",
    "    customer = 0\n",
    "    while True:\n",
    "        service = np.random.choice(['Buffet', 'Table Service'], p = [0.85, 0.15])\n",
    "        customer += 1\n",
    "        yield env.timeout(generate_arrivals())\n",
    "        env.process(generate_customer_report(env, customer, buffet, table_service, service))"
   ]
  },
  {
   "cell_type": "code",
   "execution_count": 63,
   "metadata": {},
   "outputs": [],
   "source": [
    "def generate_customer_report(env, customer, buffet, table_service, Service):\n",
    "    \"\"\" Generates the results of the simulation.\n",
    "    \n",
    "    Parameters:\n",
    "        env (object): Simpy environment object - manages the simulation time.\n",
    "        customer (int): Integer representing an individual customer.\n",
    "        buffet (int): Total capacity for the buffet service. \n",
    "        table_service (int): Total capacity for the table service. \n",
    "        Service (string): Type of service (table service or buffet service).\n",
    "    \"\"\"\n",
    "    global simulation_results\n",
    "\n",
    "    with table_service.request() as request:\n",
    "        arrival_time = env.now\n",
    "\n",
    "        yield env.timeout(1/2)\n",
    "        yield request\n",
    "\n",
    "        service_start_time = env.now\n",
    "\n",
    "        if Service == 'Table Service':\n",
    "            yield env.timeout(generate_table_service_time())\n",
    "        else:\n",
    "            yield env.timeout(generate_buffet_service_time())\n",
    "\n",
    "        service_stop_time = env.now \n",
    "\n",
    "        row = pd.DataFrame([['Customer_{}'.format(customer), Service, arrival_time, service_start_time,\n",
    "                             service_stop_time]], columns = ['Customer', 'Service', 'Arrival Time',\n",
    "                             'Service Start Time', 'Service Stop Time'])\n",
    "       \n",
    "        simulation_results = simulation_results.append(row, ignore_index = True, sort = False)\n",
    "\n",
    "        # Calculate wait times.\n",
    "        simulation_results['Service Time in Minutes'] = (simulation_results['Service Stop Time'] - simulation_results['Service Start Time'])\n",
    "        simulation_results['Wait Time in Minutes'] = (simulation_results['Service Start Time'] - simulation_results['Arrival Time'])"
   ]
  },
  {
   "cell_type": "code",
   "execution_count": 64,
   "metadata": {},
   "outputs": [],
   "source": [
    "def run_restaurant_model(simulation_runs, buffet_capacity, table_capacity):\n",
    "    \"\"\" Runs the restaurant model.\n",
    "    \n",
    "    Parameters:\n",
    "        env (int): An integer representing the amount of times the simulation should run. \n",
    "        buffet_capacity (int): Total capacity for the buffet service. \n",
    "        table_capacity (int): Total capacity for the table service. \n",
    "\n",
    "    Return:\n",
    "        wait_times (Pandas Dataframe): A Pandas dataframe containing the model results.\n",
    "    \"\"\"\n",
    "    global simulation_results\n",
    "    \n",
    "    # Initialize arrays to contain data.\n",
    "    buffet_service = []\n",
    "    table_service = []\n",
    "    average_wait_time = []\n",
    "    table_service_wait_time = []\n",
    "    buffet_wait_time = []\n",
    "\n",
    "\n",
    "    for count in range(simulation_runs):\n",
    "        simulation_results = simulation_results[0:0]\n",
    "        env = simpy.Environment()\n",
    "        env.initial_time = 0\n",
    "        # Assign the buffet service as a resource.\n",
    "        buffet = simpy.Resource(env, capacity = buffet_capacity)\n",
    "        # Assign the table service as a resource.\n",
    "        table = simpy.Resource(env, capacity = table_capacity)\n",
    "        \n",
    "        env.process(run_simulation(env, buffet, table))\n",
    "        # Run for 12 hours.\n",
    "        env.run(until = 12 * 60)\n",
    "        \n",
    "        \n",
    "        buffet_service = simulation_results[simulation_results.Service.isin(['Buffet'])]\n",
    "        table_service = simulation_results[simulation_results.Service.isin(['Table Service'])]\n",
    "\n",
    "        # Calculate the average wait time for each service.\n",
    "        average_wait = simulation_results['Wait Time in Minutes'].mean()\n",
    "        average_wait_buffet = buffet_service['Wait Time in Minutes'].mean()\n",
    "        average_wait_table = table_service['Wait Time in Minutes'].mean()\n",
    "        \n",
    "        # Append the results to the main wait time arrays.\n",
    "        average_wait_time.append(average_wait)\n",
    "        table_service_wait_time.append(average_wait_table)\n",
    "        buffet_wait_time.append(average_wait_buffet)\n",
    "        \n",
    "    # Store the wait times in a dataframe.\n",
    "    wait_times_dataframe = {\"average_wait_time\": average_wait_time,\n",
    "                \"table_service_wait_time\": table_service_wait_time,\n",
    "                \"buffet_wait_time\": buffet_wait_time}\n",
    "    \n",
    "    global wait_times\n",
    "    # Store the wait time results in a Pandas' dataframe.\n",
    "    wait_times = pd.DataFrame(wait_times_dataframe)\n",
    "\n",
    "    # Return the results.\n",
    "    return wait_times"
   ]
  },
  {
   "cell_type": "code",
   "execution_count": 65,
   "metadata": {},
   "outputs": [],
   "source": [
    "# The restaurant is open 7 days a week so we run the model 30 times\n",
    "# to reflect the number of working days in an average month.\n",
    "np.random.seed(6758)\n",
    "results = run_restaurant_model(30, 5, 1)"
   ]
  },
  {
   "cell_type": "code",
   "execution_count": 66,
   "metadata": {},
   "outputs": [
    {
     "data": {
      "image/png": "[encoded data removed]",
      "text/plain": [
       "<Figure size 432x288 with 1 Axes>"
      ]
     },
     "metadata": {
      "needs_background": "light"
     },
     "output_type": "display_data"
    }
   ],
   "source": [
    "# Plot the wait time results.\n",
    "box_plot = results.boxplot(grid = False, widths = 0.5)\n"
   ]
  },
  {
   "cell_type": "markdown",
   "metadata": {
    "pycharm": {
     "name": "#%%"
    }
   },
   "source": [
    "4.  Justify the validity of the model and discuss how you verified it.\n",
    "\n",
    "5.  State  your conclusions/ findings from the model. \n",
    "\n",
    "6.  Generate appropriate graphs (more than one) to illustrate the results and provide a PowerPoint presentation to share with your colleagues.  Post this to the discussion. "
   ]
  }
 ],
 "metadata": {
  "kernelspec": {
   "display_name": "Python 3",
   "language": "python",
   "name": "python3"
  },
  "language_info": {
   "codemirror_mode": {
    "name": "ipython",
    "version": 3
   },
   "file_extension": ".py",
   "mimetype": "text/x-python",
   "name": "python",
   "nbconvert_exporter": "python",
   "pygments_lexer": "ipython3",
   "version": "3.8.2"
  }
 },
 "nbformat": 4,
 "nbformat_minor": 1
}
