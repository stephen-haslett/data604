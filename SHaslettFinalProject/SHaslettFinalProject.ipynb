{
 "cells": [
  {
   "cell_type": "markdown",
   "metadata": {
    "collapsed": true
   },
   "source": [
    "## Data 604 Final Project\n",
    "\n",
    "Using SimPy, write a process simulation that includes waiting time (discrete event simulation). You may use any topic of interest to you. Write the simulation and all of the following in Jupyter.\n",
    "\n",
    "**1. State the problem and its significance.**\n",
    "\n",
    "This project simulates a restaurant that offers 2 services to customers:\n",
    "\n",
    "* **Self Service Buffet**    \n",
    "    _The customer is provided with a plate and serves themselves to the buffet_.\n",
    "    \n",
    "    \n",
    "* **Table Service**  \n",
    "   _The customer is seated and their food is served to them by a waiter_. \n",
    "\n",
    "2.  Provide a flow-chart model. \n",
    "\n",
    "3.  Simulate the process for the appropriate number of iterations (justify)\n",
    "\n",
    "4.  Justify the validity of the model and discuss how you verified it.\n",
    "\n",
    "5.  State  your conclusions/ findings from the model. \n",
    "\n",
    "6.  Generate appropriate graphs (more than one) to illustrate the results and provide a PowerPoint presentation to share with your colleagues.  Post this to the discussion. "
   ]
  },
  {
   "cell_type": "code",
   "execution_count": null,
   "metadata": {
    "pycharm": {
     "name": "#%%"
    }
   },
   "outputs": [],
   "source": []
  }
 ],
 "metadata": {
  "kernelspec": {
   "display_name": "Python 3",
   "language": "python",
   "name": "python3"
  },
  "language_info": {
   "codemirror_mode": {
    "name": "ipython",
    "version": 3
   },
   "file_extension": ".py",
   "mimetype": "text/x-python",
   "name": "python",
   "nbconvert_exporter": "python",
   "pygments_lexer": "ipython3",
   "version": "3.8.2"
  }
 },
 "nbformat": 4,
 "nbformat_minor": 1
}